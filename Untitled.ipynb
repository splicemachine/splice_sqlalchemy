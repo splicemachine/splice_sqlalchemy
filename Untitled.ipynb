{
 "cells": [
  {
   "cell_type": "code",
   "execution_count": 14,
   "metadata": {},
   "outputs": [],
   "source": [
    "import mlflow\n",
    "import mlflow.sklearn\n",
    "with mlflow.start_run():\n",
    "    mlflow.sklearn.log_model('test/test_suite.py', 'model')"
   ]
  },
  {
   "cell_type": "code",
   "execution_count": 12,
   "metadata": {},
   "outputs": [
    {
     "name": "stdout",
     "output_type": "stream",
     "text": [
      "Help on function register_model in module mlflow.tracking._model_registry.fluent:\n",
      "\n",
      "register_model(model_uri, name)\n",
      "    .. Note:: Experimental: This method may change or be removed in a future release without warning.\n",
      "    \n",
      "    Create a new model version in model registry for the model files specified by ``model_uri``.\n",
      "    Note that this method assumes the model registry backend URI is the same as that of the\n",
      "    tracking backend.\n",
      "    \n",
      "    :param model_uri: URI referring to the MLmodel directory. Use a ``runs:/`` URI if you want to\n",
      "                      record the run ID with the model in model registry. ``models:/`` URIs are\n",
      "                      currently not supported.\n",
      "    :param name: Name of the registered model under which to create a new model version. If a\n",
      "                 registered model with the given name does not exist, it will be created\n",
      "                 automatically.\n",
      "    :return: Single :py:class:`mlflow.entities.model_registry.ModelVersion` object created by\n",
      "             backend.\n",
      "\n"
     ]
    }
   ],
   "source": [
    "help(mlflow.register_model)"
   ]
  },
  {
   "cell_type": "code",
   "execution_count": null,
   "metadata": {},
   "outputs": [],
   "source": []
  }
 ],
 "metadata": {
  "kernelspec": {
   "display_name": "Python 3",
   "language": "python",
   "name": "python3"
  },
  "language_info": {
   "codemirror_mode": {
    "name": "ipython",
    "version": 3
   },
   "file_extension": ".py",
   "mimetype": "text/x-python",
   "name": "python",
   "nbconvert_exporter": "python",
   "pygments_lexer": "ipython3",
   "version": "3.7.6"
  }
 },
 "nbformat": 4,
 "nbformat_minor": 4
}
